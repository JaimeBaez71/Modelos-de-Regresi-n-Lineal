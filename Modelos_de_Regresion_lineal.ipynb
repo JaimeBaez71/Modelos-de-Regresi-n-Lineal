{
  "nbformat": 4,
  "nbformat_minor": 0,
  "metadata": {
    "colab": {
      "provenance": [],
      "authorship_tag": "ABX9TyMroS3u9i1piEVNtX3Jw31B",
      "include_colab_link": true
    },
    "kernelspec": {
      "name": "python3",
      "display_name": "Python 3"
    },
    "language_info": {
      "name": "python"
    }
  },
  "cells": [
    {
      "cell_type": "markdown",
      "metadata": {
        "id": "view-in-github",
        "colab_type": "text"
      },
      "source": [
        "<a href=\"https://colab.research.google.com/github/JaimeBaez71/Modelos-de-Regresi-n-Lineal/blob/main/Modelos_de_Regresion_lineal.ipynb\" target=\"_parent\"><img src=\"https://colab.research.google.com/assets/colab-badge.svg\" alt=\"Open In Colab\"/></a>"
      ]
    },
    {
      "cell_type": "code",
      "execution_count": 27,
      "metadata": {
        "id": "B4soZBf1-EvH"
      },
      "outputs": [],
      "source": [
        "#importamos librerias\n",
        "import pandas as pd\n",
        "import numpy as np\n",
        "import matplotlib.pyplot as plt\n",
        "import seaborn as sns"
      ]
    },
    {
      "cell_type": "code",
      "source": [
        "#Cargar archivo csv desde equipo\n",
        "from google.colab import files\n",
        "files.upload()"
      ],
      "metadata": {
        "id": "afMEMNOZ-y5m"
      },
      "execution_count": null,
      "outputs": []
    },
    {
      "cell_type": "code",
      "source": [
        "df1= pd.read_csv(\"cuentas_credicel.csv\", encoding= 'latin')\n",
        "pd.options.display.max_columns = None\n",
        "df1.head(50)"
      ],
      "metadata": {
        "id": "dtbaC67g-zJN"
      },
      "execution_count": null,
      "outputs": []
    },
    {
      "cell_type": "code",
      "source": [
        "df=df1.copy()"
      ],
      "metadata": {
        "id": "E03rmWl3S2lz"
      },
      "execution_count": 63,
      "outputs": []
    },
    {
      "cell_type": "code",
      "source": [
        "#Sustituimos valores nulos y strings y cambiamos los valores de Object a int\n",
        "df[\"riesgo\"]=df[\"riesgo\"].str.replace(\"Cancelado\",\"0\")\n",
        "df[\"riesgo\"]=df[\"riesgo\"].str.replace(\"Fraude\",\"0\")\n",
        "df[\"riesgo\"]=df[\"riesgo\"].str.replace(\"Atraso\",\"0\")\n",
        "df[\"riesgo\"]= df[\"riesgo\"].fillna(0)\n",
        "\n",
        "df[\"plazo\"]=df[\"plazo\"].str.replace(\"S\",\"\")\n",
        "df['plazo']= df['plazo'].astype(int)\n",
        "\n",
        "df[\"porc_enganche\"]= df[\"porc_enganche\"].fillna(round(df1[\"porc_enganche\"].mean(),1))"
      ],
      "metadata": {
        "id": "PohhBoOC-zSW"
      },
      "execution_count": 64,
      "outputs": []
    },
    {
      "cell_type": "code",
      "source": [
        "df.head(50)"
      ],
      "metadata": {
        "id": "XBfRHve5Xk58"
      },
      "execution_count": null,
      "outputs": []
    },
    {
      "cell_type": "code",
      "source": [
        "#Corrobaromas valores nulos en todo el dataframe\n",
        "valores_nulos=df.isnull().sum()\n",
        "valores_nulos"
      ],
      "metadata": {
        "id": "oeaUPqyK-zb8"
      },
      "execution_count": null,
      "outputs": []
    },
    {
      "cell_type": "markdown",
      "source": [
        "**Modelo Matematico 1**"
      ],
      "metadata": {
        "id": "ulpqR3i-T7X1"
      }
    },
    {
      "cell_type": "code",
      "source": [
        "#Declaramos las variables dependientes e independientes para la regresión lineal\n",
        "Vars_Indep= df[['porc_tasa']]\n",
        "Var_Dep= df['enganche']\n",
        "#Se define model como la función de regresión lineal\n",
        "from sklearn.linear_model import LinearRegression\n",
        "model= LinearRegression()\n",
        "#Ajustamos el modelo con las variables antes declaradas\n",
        "model.fit(X=Vars_Indep, y=Var_Dep)\n",
        "#Verificamos los coeficientes obtenidos para el modelo ajustado\n",
        "model.__dict__"
      ],
      "metadata": {
        "colab": {
          "base_uri": "https://localhost:8080/"
        },
        "id": "fnfpOoW9T6Cc",
        "outputId": "7e38d716-d5c3-4ed2-8bc3-671bf14acaab"
      },
      "execution_count": 42,
      "outputs": [
        {
          "output_type": "execute_result",
          "data": {
            "text/plain": [
              "{'fit_intercept': True,\n",
              " 'copy_X': True,\n",
              " 'n_jobs': None,\n",
              " 'positive': False,\n",
              " 'feature_names_in_': array(['porc_tasa'], dtype=object),\n",
              " 'n_features_in_': 1,\n",
              " 'coef_': array([-1.58267294]),\n",
              " 'rank_': 1,\n",
              " 'singular_': array([1161.91123173]),\n",
              " 'intercept_': 928.8307344701436}"
            ]
          },
          "metadata": {},
          "execution_count": 42
        }
      ]
    },
    {
      "cell_type": "markdown",
      "source": [
        "y=-1.58267294+928.8307344701436"
      ],
      "metadata": {
        "id": "AEqOjuBnUmYd"
      }
    },
    {
      "cell_type": "code",
      "source": [
        "#Predecimos los valores de total de accidentes a partir de la variable\n",
        "y_pred= model.predict(X=df[[\"porc_tasa\"]])\n",
        "y_pred"
      ],
      "metadata": {
        "colab": {
          "base_uri": "https://localhost:8080/"
        },
        "id": "DLbwG6c3Uvbs",
        "outputId": "178eacf4-62b1-4b76-d7f2-5e1866101e84"
      },
      "execution_count": 43,
      "outputs": [
        {
          "output_type": "execute_result",
          "data": {
            "text/plain": [
              "array([928.83073447, 928.83073447, 928.83073447, ..., 927.64372977,\n",
              "       929.05230868, 933.38883253])"
            ]
          },
          "metadata": {},
          "execution_count": 43
        }
      ]
    },
    {
      "cell_type": "code",
      "source": [
        "#Corroboramos cual es el coeficiente de Determinación de nuestro modelo\n",
        "coef_Deter=model.score(X=Vars_Indep, y=Var_Dep)\n",
        "coef_Deter"
      ],
      "metadata": {
        "colab": {
          "base_uri": "https://localhost:8080/"
        },
        "id": "NPS84NyRVOpC",
        "outputId": "7ae52d0d-7020-4f74-dd5f-48eb9b293f77"
      },
      "execution_count": 44,
      "outputs": [
        {
          "output_type": "execute_result",
          "data": {
            "text/plain": [
              "0.0006546161532061667"
            ]
          },
          "metadata": {},
          "execution_count": 44
        }
      ]
    },
    {
      "cell_type": "markdown",
      "source": [
        "**Modelo Matematico 2**"
      ],
      "metadata": {
        "id": "RnrgBMHPVXNh"
      }
    },
    {
      "cell_type": "code",
      "source": [
        "#Declaramos las variables dependientes e independientes para la regresión lineal\n",
        "Vars_Indep= df[['porc_tasa']]\n",
        "Var_Dep= df['precio']\n",
        "#Se define model como la función de regresión lineal\n",
        "from sklearn.linear_model import LinearRegression\n",
        "model= LinearRegression()\n",
        "#Ajustamos el modelo con las variables antes declaradas\n",
        "model.fit(X=Vars_Indep, y=Var_Dep)\n",
        "#Verificamos los coeficientes obtenidos para el modelo ajustado\n",
        "model.__dict__"
      ],
      "metadata": {
        "colab": {
          "base_uri": "https://localhost:8080/"
        },
        "outputId": "785fd800-b0b1-4f78-8a3b-3aca48a2f9a8",
        "id": "A6o0TFCNVcZc"
      },
      "execution_count": 45,
      "outputs": [
        {
          "output_type": "execute_result",
          "data": {
            "text/plain": [
              "{'fit_intercept': True,\n",
              " 'copy_X': True,\n",
              " 'n_jobs': None,\n",
              " 'positive': False,\n",
              " 'feature_names_in_': array(['porc_tasa'], dtype=object),\n",
              " 'n_features_in_': 1,\n",
              " 'coef_': array([-6.73481928]),\n",
              " 'rank_': 1,\n",
              " 'singular_': array([1161.91123173]),\n",
              " 'intercept_': 4007.2210996335884}"
            ]
          },
          "metadata": {},
          "execution_count": 45
        }
      ]
    },
    {
      "cell_type": "markdown",
      "source": [
        "y=-6.73481928+4007.2210996335884"
      ],
      "metadata": {
        "id": "5VzWv7DBVcZd"
      }
    },
    {
      "cell_type": "code",
      "source": [
        "#Predecimos los valores de total de accidentes a partir de la variable\n",
        "y_pred= model.predict(X=df[[\"porc_tasa\"]])\n",
        "y_pred"
      ],
      "metadata": {
        "colab": {
          "base_uri": "https://localhost:8080/"
        },
        "outputId": "f843fa4e-1cd2-4f2f-b135-718d719c05dc",
        "id": "MxaJXEvRVcZd"
      },
      "execution_count": 46,
      "outputs": [
        {
          "output_type": "execute_result",
          "data": {
            "text/plain": [
              "array([4007.22109963, 4007.22109963, 4007.22109963, ..., 4002.16998517,\n",
              "       4008.16397433, 4026.61737916])"
            ]
          },
          "metadata": {},
          "execution_count": 46
        }
      ]
    },
    {
      "cell_type": "code",
      "source": [
        "#Corroboramos cual es el coeficiente de Determinación de nuestro modelo\n",
        "coef_Deter=model.score(X=Vars_Indep, y=Var_Dep)\n",
        "coef_Deter"
      ],
      "metadata": {
        "colab": {
          "base_uri": "https://localhost:8080/"
        },
        "outputId": "0f213236-a4e2-47ea-c1ce-9331d51618e7",
        "id": "NOujrBKqVcZd"
      },
      "execution_count": 47,
      "outputs": [
        {
          "output_type": "execute_result",
          "data": {
            "text/plain": [
              "0.001453055074519316"
            ]
          },
          "metadata": {},
          "execution_count": 47
        }
      ]
    },
    {
      "cell_type": "markdown",
      "source": [
        "**Modelo Matematico 3**"
      ],
      "metadata": {
        "id": "dv5Am8BJV7St"
      }
    },
    {
      "cell_type": "code",
      "source": [
        "#Declaramos las variables dependientes e independientes para la regresión lineal\n",
        "Vars_Indep= df[['porc_tasa']]\n",
        "Var_Dep= df['costo_total']\n",
        "#Se define model como la función de regresión lineal\n",
        "from sklearn.linear_model import LinearRegression\n",
        "model= LinearRegression()\n",
        "#Ajustamos el modelo con las variables antes declaradas\n",
        "model.fit(X=Vars_Indep, y=Var_Dep)\n",
        "#Verificamos los coeficientes obtenidos para el modelo ajustado\n",
        "model.__dict__"
      ],
      "metadata": {
        "colab": {
          "base_uri": "https://localhost:8080/"
        },
        "outputId": "daf805ac-6179-49a2-e4c1-a5271f676337",
        "id": "pRnpuhvIVXNh"
      },
      "execution_count": 48,
      "outputs": [
        {
          "output_type": "execute_result",
          "data": {
            "text/plain": [
              "{'fit_intercept': True,\n",
              " 'copy_X': True,\n",
              " 'n_jobs': None,\n",
              " 'positive': False,\n",
              " 'feature_names_in_': array(['porc_tasa'], dtype=object),\n",
              " 'n_features_in_': 1,\n",
              " 'coef_': array([-29.81472897]),\n",
              " 'rank_': 1,\n",
              " 'singular_': array([1161.91123173]),\n",
              " 'intercept_': 5744.778665802484}"
            ]
          },
          "metadata": {},
          "execution_count": 48
        }
      ]
    },
    {
      "cell_type": "markdown",
      "source": [
        "y=-29.81472897+5744.778665802484"
      ],
      "metadata": {
        "id": "q94GmZEpVXNi"
      }
    },
    {
      "cell_type": "code",
      "source": [
        "#Predecimos los valores de total de accidentes a partir de la variable\n",
        "y_pred= model.predict(X=df[[\"porc_tasa\"]])\n",
        "y_pred"
      ],
      "metadata": {
        "colab": {
          "base_uri": "https://localhost:8080/"
        },
        "outputId": "3cc490c9-4714-438e-baec-caeaa500c8e4",
        "id": "uXdg3TRyVXNi"
      },
      "execution_count": 49,
      "outputs": [
        {
          "output_type": "execute_result",
          "data": {
            "text/plain": [
              "array([5744.7786658 , 5744.7786658 , 5744.7786658 , ..., 5722.41761907,\n",
              "       5748.95272786, 5830.64508525])"
            ]
          },
          "metadata": {},
          "execution_count": 49
        }
      ]
    },
    {
      "cell_type": "code",
      "source": [
        "#Corroboramos cual es el coeficiente de Determinación de nuestro modelo\n",
        "coef_Deter=model.score(X=Vars_Indep, y=Var_Dep)\n",
        "coef_Deter"
      ],
      "metadata": {
        "colab": {
          "base_uri": "https://localhost:8080/"
        },
        "outputId": "551737a1-126d-49db-fa6f-9c6d303896be",
        "id": "5IkXdDoHVXNi"
      },
      "execution_count": 50,
      "outputs": [
        {
          "output_type": "execute_result",
          "data": {
            "text/plain": [
              "0.009272642721947721"
            ]
          },
          "metadata": {},
          "execution_count": 50
        }
      ]
    },
    {
      "cell_type": "markdown",
      "source": [
        "**Modelo Matematico 4**"
      ],
      "metadata": {
        "id": "aeTNA577VhP2"
      }
    },
    {
      "cell_type": "code",
      "source": [
        "#Declaramos las variables dependientes e independientes para la regresión lineal\n",
        "Vars_Indep= df[['porc_tasa']]\n",
        "Var_Dep= df['pagos_realizados']\n",
        "#Se define model como la función de regresión lineal\n",
        "from sklearn.linear_model import LinearRegression\n",
        "model= LinearRegression()\n",
        "#Ajustamos el modelo con las variables antes declaradas\n",
        "model.fit(X=Vars_Indep, y=Var_Dep)\n",
        "#Verificamos los coeficientes obtenidos para el modelo ajustado\n",
        "model.__dict__"
      ],
      "metadata": {
        "colab": {
          "base_uri": "https://localhost:8080/"
        },
        "outputId": "34eca443-2f76-4f8f-d701-029667d7a32a",
        "id": "I8f17xq4VhP2"
      },
      "execution_count": 51,
      "outputs": [
        {
          "output_type": "execute_result",
          "data": {
            "text/plain": [
              "{'fit_intercept': True,\n",
              " 'copy_X': True,\n",
              " 'n_jobs': None,\n",
              " 'positive': False,\n",
              " 'feature_names_in_': array(['porc_tasa'], dtype=object),\n",
              " 'n_features_in_': 1,\n",
              " 'coef_': array([0.03074397]),\n",
              " 'rank_': 1,\n",
              " 'singular_': array([1161.91123173]),\n",
              " 'intercept_': 10.134286976970543}"
            ]
          },
          "metadata": {},
          "execution_count": 51
        }
      ]
    },
    {
      "cell_type": "markdown",
      "source": [
        "y=0.03074397+10.134286976970543"
      ],
      "metadata": {
        "id": "cKpSnSX5VhP2"
      }
    },
    {
      "cell_type": "code",
      "source": [
        "#Predecimos los valores de total de accidentes a partir de la variable\n",
        "y_pred= model.predict(X=df[[\"porc_tasa\"]])\n",
        "y_pred"
      ],
      "metadata": {
        "colab": {
          "base_uri": "https://localhost:8080/"
        },
        "outputId": "5bbb1cfa-a01e-47eb-aefa-e41c5ced1a1e",
        "id": "LW6pUcreVhP2"
      },
      "execution_count": 52,
      "outputs": [
        {
          "output_type": "execute_result",
          "data": {
            "text/plain": [
              "array([10.13428698, 10.13428698, 10.13428698, ..., 10.15734496,\n",
              "       10.12998282, 10.04574434])"
            ]
          },
          "metadata": {},
          "execution_count": 52
        }
      ]
    },
    {
      "cell_type": "code",
      "source": [
        "#Corroboramos cual es el coeficiente de Determinación de nuestro modelo\n",
        "coef_Deter=model.score(X=Vars_Indep, y=Var_Dep)\n",
        "coef_Deter"
      ],
      "metadata": {
        "colab": {
          "base_uri": "https://localhost:8080/"
        },
        "outputId": "8f71e9d9-8b25-441f-b137-f76979ae3030",
        "id": "WNEXDWT6VhP3"
      },
      "execution_count": 54,
      "outputs": [
        {
          "output_type": "execute_result",
          "data": {
            "text/plain": [
              "0.0005955114161472208"
            ]
          },
          "metadata": {},
          "execution_count": 54
        }
      ]
    },
    {
      "cell_type": "markdown",
      "source": [
        "**Modelo Matematico 5**"
      ],
      "metadata": {
        "id": "FaeQclG7XILD"
      }
    },
    {
      "cell_type": "code",
      "source": [
        "#Declaramos las variables dependientes e independientes para la regresión lineal\n",
        "Vars_Indep= df[['porc_tasa']]\n",
        "Var_Dep= df['riesgo']\n",
        "#Se define model como la función de regresión lineal\n",
        "from sklearn.linear_model import LinearRegression\n",
        "model= LinearRegression()\n",
        "#Ajustamos el modelo con las variables antes declaradas\n",
        "model.fit(X=Vars_Indep, y=Var_Dep)\n",
        "#Verificamos los coeficientes obtenidos para el modelo ajustado\n",
        "model.__dict__"
      ],
      "metadata": {
        "colab": {
          "base_uri": "https://localhost:8080/"
        },
        "outputId": "23e383ab-3ed5-41f2-eb6b-ae2dce3cf6f3",
        "id": "xFwbh2HTXILD"
      },
      "execution_count": 67,
      "outputs": [
        {
          "output_type": "execute_result",
          "data": {
            "text/plain": [
              "{'fit_intercept': True,\n",
              " 'copy_X': True,\n",
              " 'n_jobs': None,\n",
              " 'positive': False,\n",
              " 'feature_names_in_': array(['porc_tasa'], dtype=object),\n",
              " 'n_features_in_': 1,\n",
              " 'coef_': array([-0.05087199]),\n",
              " 'rank_': 1,\n",
              " 'singular_': array([1161.91123173]),\n",
              " 'intercept_': 2.231017904804726}"
            ]
          },
          "metadata": {},
          "execution_count": 67
        }
      ]
    },
    {
      "cell_type": "markdown",
      "source": [
        "y=-0.05087199+2.231017904804726"
      ],
      "metadata": {
        "id": "YMnSwzDCXILD"
      }
    },
    {
      "cell_type": "code",
      "source": [
        "#Predecimos los valores de total de accidentes a partir de la variable\n",
        "y_pred= model.predict(X=df[[\"porc_tasa\"]])\n",
        "y_pred"
      ],
      "metadata": {
        "colab": {
          "base_uri": "https://localhost:8080/"
        },
        "outputId": "5ab52ef1-1dd8-403a-c685-dcb9f088b9d9",
        "id": "EyOFnxqMXILD"
      },
      "execution_count": 68,
      "outputs": [
        {
          "output_type": "execute_result",
          "data": {
            "text/plain": [
              "array([2.2310179 , 2.2310179 , 2.2310179 , ..., 2.19286391, 2.23813998,\n",
              "       2.37752925])"
            ]
          },
          "metadata": {},
          "execution_count": 68
        }
      ]
    },
    {
      "cell_type": "code",
      "source": [
        "#Corroboramos cual es el coeficiente de Determinación de nuestro modelo\n",
        "coef_Deter=model.score(X=Vars_Indep, y=Var_Dep)\n",
        "coef_Deter"
      ],
      "metadata": {
        "colab": {
          "base_uri": "https://localhost:8080/"
        },
        "outputId": "08e9e1be-31d0-4120-d33a-443c4c0a9df3",
        "id": "0n8r6MR1XILD"
      },
      "execution_count": 69,
      "outputs": [
        {
          "output_type": "execute_result",
          "data": {
            "text/plain": [
              "0.0007944945907698564"
            ]
          },
          "metadata": {},
          "execution_count": 69
        }
      ]
    },
    {
      "cell_type": "markdown",
      "source": [
        "**Modelo Matematico 6**"
      ],
      "metadata": {
        "id": "sfmk16o-XIrv"
      }
    },
    {
      "cell_type": "code",
      "source": [
        "#Declaramos las variables dependientes e independientes para la regresión lineal\n",
        "Vars_Indep= df[['porc_tasa']]\n",
        "Var_Dep= df['plazo']\n",
        "#Se define model como la función de regresión lineal\n",
        "from sklearn.linear_model import LinearRegression\n",
        "model= LinearRegression()\n",
        "#Ajustamos el modelo con las variables antes declaradas\n",
        "model.fit(X=Vars_Indep, y=Var_Dep)\n",
        "#Verificamos los coeficientes obtenidos para el modelo ajustado\n",
        "model.__dict__"
      ],
      "metadata": {
        "colab": {
          "base_uri": "https://localhost:8080/"
        },
        "outputId": "c2924382-867d-4dbf-be20-9da664f69a6c",
        "id": "8DD03opzXIrw"
      },
      "execution_count": 70,
      "outputs": [
        {
          "output_type": "execute_result",
          "data": {
            "text/plain": [
              "{'fit_intercept': True,\n",
              " 'copy_X': True,\n",
              " 'n_jobs': None,\n",
              " 'positive': False,\n",
              " 'feature_names_in_': array(['porc_tasa'], dtype=object),\n",
              " 'n_features_in_': 1,\n",
              " 'coef_': array([-0.24476901]),\n",
              " 'rank_': 1,\n",
              " 'singular_': array([1161.91123173]),\n",
              " 'intercept_': 26.279798588221073}"
            ]
          },
          "metadata": {},
          "execution_count": 70
        }
      ]
    },
    {
      "cell_type": "markdown",
      "source": [
        "y=-0.24476901+26.279798588221073"
      ],
      "metadata": {
        "id": "jacYyYEVXIrw"
      }
    },
    {
      "cell_type": "code",
      "source": [
        "#Predecimos los valores de total de accidentes a partir de la variable\n",
        "y_pred= model.predict(X=df[[\"porc_tasa\"]])\n",
        "y_pred"
      ],
      "metadata": {
        "colab": {
          "base_uri": "https://localhost:8080/"
        },
        "outputId": "679c2628-60bc-4ca2-82fa-b31b52ca809c",
        "id": "xhQpO1x7XIrw"
      },
      "execution_count": 71,
      "outputs": [
        {
          "output_type": "execute_result",
          "data": {
            "text/plain": [
              "array([26.27979859, 26.27979859, 26.27979859, ..., 26.09622183,\n",
              "       26.31406625, 26.98473334])"
            ]
          },
          "metadata": {},
          "execution_count": 71
        }
      ]
    },
    {
      "cell_type": "code",
      "source": [
        "#Corroboramos cual es el coeficiente de Determinación de nuestro modelo\n",
        "coef_Deter=model.score(X=Vars_Indep, y=Var_Dep)\n",
        "coef_Deter"
      ],
      "metadata": {
        "colab": {
          "base_uri": "https://localhost:8080/"
        },
        "outputId": "dad14798-110e-45ed-9f78-3af0b79ce1df",
        "id": "IdbjZ3XlXIrw"
      },
      "execution_count": 72,
      "outputs": [
        {
          "output_type": "execute_result",
          "data": {
            "text/plain": [
              "0.03566074083655013"
            ]
          },
          "metadata": {},
          "execution_count": 72
        }
      ]
    },
    {
      "cell_type": "markdown",
      "source": [
        "**Modelo Matematico 7**"
      ],
      "metadata": {
        "id": "3DibdbzxXJHQ"
      }
    },
    {
      "cell_type": "code",
      "source": [
        "#Declaramos las variables dependientes e independientes para la regresión lineal\n",
        "Vars_Indep= df[['porc_tasa']]\n",
        "Var_Dep= df['monto_financiado']\n",
        "#Se define model como la función de regresión lineal\n",
        "from sklearn.linear_model import LinearRegression\n",
        "model= LinearRegression()\n",
        "#Ajustamos el modelo con las variables antes declaradas\n",
        "model.fit(X=Vars_Indep, y=Var_Dep)\n",
        "#Verificamos los coeficientes obtenidos para el modelo ajustado\n",
        "model.__dict__"
      ],
      "metadata": {
        "colab": {
          "base_uri": "https://localhost:8080/"
        },
        "outputId": "64a42b80-2469-478a-c657-ada1c8d094ad",
        "id": "gEILGMPhXJHR"
      },
      "execution_count": 73,
      "outputs": [
        {
          "output_type": "execute_result",
          "data": {
            "text/plain": [
              "{'fit_intercept': True,\n",
              " 'copy_X': True,\n",
              " 'n_jobs': None,\n",
              " 'positive': False,\n",
              " 'feature_names_in_': array(['porc_tasa'], dtype=object),\n",
              " 'n_features_in_': 1,\n",
              " 'coef_': array([-5.3397735]),\n",
              " 'rank_': 1,\n",
              " 'singular_': array([1161.91123173]),\n",
              " 'intercept_': 3084.211509627098}"
            ]
          },
          "metadata": {},
          "execution_count": 73
        }
      ]
    },
    {
      "cell_type": "markdown",
      "source": [
        "y=-5.3397735+3084.211509627098"
      ],
      "metadata": {
        "id": "Tu6PY9lKXJHR"
      }
    },
    {
      "cell_type": "code",
      "source": [
        "#Predecimos los valores de total de accidentes a partir de la variable\n",
        "y_pred= model.predict(X=df[[\"porc_tasa\"]])\n",
        "y_pred"
      ],
      "metadata": {
        "colab": {
          "base_uri": "https://localhost:8080/"
        },
        "outputId": "1d4fcf7c-7569-4776-9553-b0b6d16a7f5a",
        "id": "qyhRYCPGXJHR"
      },
      "execution_count": 74,
      "outputs": [
        {
          "output_type": "execute_result",
          "data": {
            "text/plain": [
              "array([3084.21150963, 3084.21150963, 3084.21150963, ..., 3080.2066795 ,\n",
              "       3084.95907792, 3099.59005731])"
            ]
          },
          "metadata": {},
          "execution_count": 74
        }
      ]
    },
    {
      "cell_type": "code",
      "source": [
        "#Corroboramos cual es el coeficiente de Determinación de nuestro modelo\n",
        "coef_Deter=model.score(X=Vars_Indep, y=Var_Dep)\n",
        "coef_Deter"
      ],
      "metadata": {
        "colab": {
          "base_uri": "https://localhost:8080/"
        },
        "outputId": "37a7ae79-b98e-438f-824b-a3c7500b0aea",
        "id": "C9eUESTcXJHR"
      },
      "execution_count": 75,
      "outputs": [
        {
          "output_type": "execute_result",
          "data": {
            "text/plain": [
              "0.0014077274944149787"
            ]
          },
          "metadata": {},
          "execution_count": 75
        }
      ]
    },
    {
      "cell_type": "markdown",
      "source": [
        "**Modelo Matematico 8**"
      ],
      "metadata": {
        "id": "JNAFt0oyXJiQ"
      }
    },
    {
      "cell_type": "code",
      "source": [
        "#Declaramos las variables dependientes e independientes para la regresión lineal\n",
        "Vars_Indep= df[['porc_tasa']]\n",
        "Var_Dep= df['porc_enganche']\n",
        "#Se define model como la función de regresión lineal\n",
        "from sklearn.linear_model import LinearRegression\n",
        "model= LinearRegression()\n",
        "#Ajustamos el modelo con las variables antes declaradas\n",
        "model.fit(X=Vars_Indep, y=Var_Dep)\n",
        "#Verificamos los coeficientes obtenidos para el modelo ajustado\n",
        "model.__dict__"
      ],
      "metadata": {
        "colab": {
          "base_uri": "https://localhost:8080/"
        },
        "outputId": "f92fafc1-90b3-420d-8f8b-22de393203eb",
        "id": "OvT63nBSXJiQ"
      },
      "execution_count": 76,
      "outputs": [
        {
          "output_type": "execute_result",
          "data": {
            "text/plain": [
              "{'fit_intercept': True,\n",
              " 'copy_X': True,\n",
              " 'n_jobs': None,\n",
              " 'positive': False,\n",
              " 'feature_names_in_': array(['porc_tasa'], dtype=object),\n",
              " 'n_features_in_': 1,\n",
              " 'coef_': array([-0.07293431]),\n",
              " 'rank_': 1,\n",
              " 'singular_': array([1161.91123173]),\n",
              " 'intercept_': 1.0108007593802968}"
            ]
          },
          "metadata": {},
          "execution_count": 76
        }
      ]
    },
    {
      "cell_type": "markdown",
      "source": [
        "y=-0.07293431+1.0108007593802968"
      ],
      "metadata": {
        "id": "wVfCEevPXJiQ"
      }
    },
    {
      "cell_type": "code",
      "source": [
        "#Predecimos los valores de total de accidentes a partir de la variable\n",
        "y_pred= model.predict(X=df[[\"porc_tasa\"]])\n",
        "y_pred"
      ],
      "metadata": {
        "colab": {
          "base_uri": "https://localhost:8080/"
        },
        "outputId": "f9c73d17-1dfb-4463-a723-dca9269b9bcf",
        "id": "di89aQa_XJiQ"
      },
      "execution_count": 77,
      "outputs": [
        {
          "output_type": "execute_result",
          "data": {
            "text/plain": [
              "array([1.01080076, 1.01080076, 1.01080076, ..., 0.95610003, 1.02101156,\n",
              "       1.22085157])"
            ]
          },
          "metadata": {},
          "execution_count": 77
        }
      ]
    },
    {
      "cell_type": "code",
      "source": [
        "#Corroboramos cual es el coeficiente de Determinación de nuestro modelo\n",
        "coef_Deter=model.score(X=Vars_Indep, y=Var_Dep)\n",
        "coef_Deter"
      ],
      "metadata": {
        "colab": {
          "base_uri": "https://localhost:8080/"
        },
        "outputId": "c70cb3db-617a-40fb-e049-90b6fe93d4aa",
        "id": "OuS5MNAkXJiQ"
      },
      "execution_count": 78,
      "outputs": [
        {
          "output_type": "execute_result",
          "data": {
            "text/plain": [
              "0.009570552066136218"
            ]
          },
          "metadata": {},
          "execution_count": 78
        }
      ]
    }
  ]
}